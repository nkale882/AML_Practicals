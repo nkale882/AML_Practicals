{
  "cells": [
    {
      "cell_type": "code",
      "execution_count": null,
      "id": "5fa4cfd0",
      "metadata": {
        "id": "5fa4cfd0"
      },
      "outputs": [],
      "source": [
        "import pandas as pd\n",
        "from sklearn.model_selection import train_test_split\n",
        "from sklearn.ensemble import RandomForestRegressor\n",
        "from sklearn import metrics\n",
        "from sklearn.preprocessing import LabelEncoder\n",
        "from sklearn.preprocessing import StandardScaler\n",
        "from sklearn.model_selection import GridSearchCV\n",
        "import matplotlib.pyplot as plt\n",
        "import seaborn as sns\n",
        "import warnings\n",
        "warnings.filterwarnings(\"ignore\")"
      ]
    },
    {
      "cell_type": "code",
      "execution_count": null,
      "id": "af8351f2",
      "metadata": {
        "id": "af8351f2"
      },
      "outputs": [],
      "source": [
        "# Load the dataset\n",
        "df = pd.read_excel('C:/Users/nilesh/Downloads/Toyota_excel.xlsx')"
      ]
    },
    {
      "cell_type": "code",
      "execution_count": null,
      "id": "a5a429f2",
      "metadata": {
        "id": "a5a429f2",
        "outputId": "d82d4d4e-5971-4368-8169-b14a42562540"
      },
      "outputs": [
        {
          "data": {
            "text/html": [
              "<div>\n",
              "<style scoped>\n",
              "    .dataframe tbody tr th:only-of-type {\n",
              "        vertical-align: middle;\n",
              "    }\n",
              "\n",
              "    .dataframe tbody tr th {\n",
              "        vertical-align: top;\n",
              "    }\n",
              "\n",
              "    .dataframe thead th {\n",
              "        text-align: right;\n",
              "    }\n",
              "</style>\n",
              "<table border=\"1\" class=\"dataframe\">\n",
              "  <thead>\n",
              "    <tr style=\"text-align: right;\">\n",
              "      <th></th>\n",
              "      <th>Price</th>\n",
              "      <th>Age</th>\n",
              "      <th>KM</th>\n",
              "      <th>FuelType</th>\n",
              "      <th>HP</th>\n",
              "      <th>MetColor</th>\n",
              "      <th>Automatic</th>\n",
              "      <th>CC</th>\n",
              "      <th>Doors</th>\n",
              "      <th>Weight</th>\n",
              "    </tr>\n",
              "  </thead>\n",
              "  <tbody>\n",
              "    <tr>\n",
              "      <th>0</th>\n",
              "      <td>13500</td>\n",
              "      <td>23.0</td>\n",
              "      <td>46986.0</td>\n",
              "      <td>Diesel</td>\n",
              "      <td>90.0</td>\n",
              "      <td>1.0</td>\n",
              "      <td>0</td>\n",
              "      <td>2000</td>\n",
              "      <td>NaN</td>\n",
              "      <td>1165</td>\n",
              "    </tr>\n",
              "    <tr>\n",
              "      <th>1</th>\n",
              "      <td>13750</td>\n",
              "      <td>23.0</td>\n",
              "      <td>72937.0</td>\n",
              "      <td>Diesel</td>\n",
              "      <td>90.0</td>\n",
              "      <td>1.0</td>\n",
              "      <td>0</td>\n",
              "      <td>2000</td>\n",
              "      <td>3.0</td>\n",
              "      <td>1165</td>\n",
              "    </tr>\n",
              "    <tr>\n",
              "      <th>2</th>\n",
              "      <td>13950</td>\n",
              "      <td>24.0</td>\n",
              "      <td>41711.0</td>\n",
              "      <td>Diesel</td>\n",
              "      <td>90.0</td>\n",
              "      <td>NaN</td>\n",
              "      <td>0</td>\n",
              "      <td>2000</td>\n",
              "      <td>3.0</td>\n",
              "      <td>1165</td>\n",
              "    </tr>\n",
              "    <tr>\n",
              "      <th>3</th>\n",
              "      <td>14950</td>\n",
              "      <td>26.0</td>\n",
              "      <td>48000.0</td>\n",
              "      <td>Diesel</td>\n",
              "      <td>90.0</td>\n",
              "      <td>0.0</td>\n",
              "      <td>0</td>\n",
              "      <td>2000</td>\n",
              "      <td>3.0</td>\n",
              "      <td>1165</td>\n",
              "    </tr>\n",
              "    <tr>\n",
              "      <th>4</th>\n",
              "      <td>13750</td>\n",
              "      <td>30.0</td>\n",
              "      <td>38500.0</td>\n",
              "      <td>Diesel</td>\n",
              "      <td>90.0</td>\n",
              "      <td>0.0</td>\n",
              "      <td>0</td>\n",
              "      <td>2000</td>\n",
              "      <td>3.0</td>\n",
              "      <td>1170</td>\n",
              "    </tr>\n",
              "  </tbody>\n",
              "</table>\n",
              "</div>"
            ],
            "text/plain": [
              "   Price   Age       KM FuelType    HP  MetColor  Automatic    CC  Doors  \\\n",
              "0  13500  23.0  46986.0   Diesel  90.0       1.0          0  2000    NaN   \n",
              "1  13750  23.0  72937.0   Diesel  90.0       1.0          0  2000    3.0   \n",
              "2  13950  24.0  41711.0   Diesel  90.0       NaN          0  2000    3.0   \n",
              "3  14950  26.0  48000.0   Diesel  90.0       0.0          0  2000    3.0   \n",
              "4  13750  30.0  38500.0   Diesel  90.0       0.0          0  2000    3.0   \n",
              "\n",
              "   Weight  \n",
              "0    1165  \n",
              "1    1165  \n",
              "2    1165  \n",
              "3    1165  \n",
              "4    1170  "
            ]
          },
          "execution_count": 6,
          "metadata": {},
          "output_type": "execute_result"
        }
      ],
      "source": [
        "df.replace('??',pd.NA, inplace=True)\n",
        "df.replace('????', pd.NA, inplace= True)\n",
        "\n",
        "numeric_columns= ['Age', 'KM', 'HP', 'Weight', 'CC','Doors']\n",
        "for col in numeric_columns:\n",
        "    df[col]=pd.to_numeric(df[col],errors='coerce')\n",
        "\n",
        "\n",
        "#Display the clean datasets\n",
        "df.head()"
      ]
    },
    {
      "cell_type": "code",
      "execution_count": null,
      "id": "61a8c196",
      "metadata": {
        "id": "61a8c196"
      },
      "outputs": [],
      "source": [
        "# Fill missing numerical values with median\n",
        "df['KM'].fillna(df['KM'].median(), inplace=True)\n",
        "df['HP'].fillna(df['HP'].median(), inplace=True)\n",
        "# Handle categorical data in 'FuelType' and 'Doors'\n",
        "df['FuelType'].fillna(df['FuelType'].mode()[0], inplace=True)\n",
        "# Replace string values in 'Doors' with numeric equivalents\n",
        "df['Doors'].replace({'three': 3, 'four': 4, '5': 5}, inplace=True)\n",
        "# Convert 'Doors' to a numeric column (in case any other strings are there)\n",
        "df['Doors'] = pd.to_numeric(df['Doors'], errors='coerce')\n",
        "# Fill missing values in 'Doors' with the median\n",
        "df['Doors'].fillna(df['Doors'].median(), inplace=True)\n",
        "\n",
        "# Fill any remaining missing values in other columns\n",
        "df.fillna(0, inplace=True)"
      ]
    },
    {
      "cell_type": "code",
      "execution_count": null,
      "id": "5153422a",
      "metadata": {
        "id": "5153422a",
        "outputId": "7cceef70-495d-4295-ddaa-6fbca7dd8a08"
      },
      "outputs": [
        {
          "name": "stdout",
          "output_type": "stream",
          "text": [
            "Price          int64\n",
            "Age          float64\n",
            "KM           float64\n",
            "FuelType      object\n",
            "HP           float64\n",
            "MetColor     float64\n",
            "Automatic      int64\n",
            "CC             int64\n",
            "Doors        float64\n",
            "Weight         int64\n",
            "dtype: object\n"
          ]
        }
      ],
      "source": [
        "# Check the data types of each column in the DataFrame\n",
        "print(df.dtypes)"
      ]
    },
    {
      "cell_type": "code",
      "execution_count": null,
      "id": "6148e66f",
      "metadata": {
        "id": "6148e66f"
      },
      "outputs": [],
      "source": [
        "# Encoding categorical variables\n",
        "label_encoder= LabelEncoder()\n",
        "df['FuelType']= label_encoder.fit_transform(df['FuelType'])"
      ]
    },
    {
      "cell_type": "code",
      "execution_count": null,
      "id": "b1a94062",
      "metadata": {
        "id": "b1a94062"
      },
      "outputs": [],
      "source": [
        "# Difine the feature set X and target y\n",
        "X= df.drop(['Price'],axis=1)\n",
        "y= df['Price']"
      ]
    },
    {
      "cell_type": "code",
      "execution_count": null,
      "id": "cf8b3e43",
      "metadata": {
        "id": "cf8b3e43"
      },
      "outputs": [],
      "source": [
        "scaler = StandardScaler()\n",
        "X = pd.DataFrame(data=scaler.fit_transform(X), columns=X.columns)"
      ]
    },
    {
      "cell_type": "code",
      "execution_count": null,
      "id": "4110f9b4",
      "metadata": {
        "id": "4110f9b4"
      },
      "outputs": [],
      "source": [
        "X_train, X_test, y_train, y_test = train_test_split(X, y, test_size=0.2,random_state=42)"
      ]
    },
    {
      "cell_type": "code",
      "execution_count": null,
      "id": "0c52f807",
      "metadata": {
        "id": "0c52f807",
        "outputId": "c61fd259-0f28-4d08-ce9f-93b9ee728cb1"
      },
      "outputs": [
        {
          "data": {
            "text/html": [
              "<style>#sk-container-id-1 {color: black;}#sk-container-id-1 pre{padding: 0;}#sk-container-id-1 div.sk-toggleable {background-color: white;}#sk-container-id-1 label.sk-toggleable__label {cursor: pointer;display: block;width: 100%;margin-bottom: 0;padding: 0.3em;box-sizing: border-box;text-align: center;}#sk-container-id-1 label.sk-toggleable__label-arrow:before {content: \"▸\";float: left;margin-right: 0.25em;color: #696969;}#sk-container-id-1 label.sk-toggleable__label-arrow:hover:before {color: black;}#sk-container-id-1 div.sk-estimator:hover label.sk-toggleable__label-arrow:before {color: black;}#sk-container-id-1 div.sk-toggleable__content {max-height: 0;max-width: 0;overflow: hidden;text-align: left;background-color: #f0f8ff;}#sk-container-id-1 div.sk-toggleable__content pre {margin: 0.2em;color: black;border-radius: 0.25em;background-color: #f0f8ff;}#sk-container-id-1 input.sk-toggleable__control:checked~div.sk-toggleable__content {max-height: 200px;max-width: 100%;overflow: auto;}#sk-container-id-1 input.sk-toggleable__control:checked~label.sk-toggleable__label-arrow:before {content: \"▾\";}#sk-container-id-1 div.sk-estimator input.sk-toggleable__control:checked~label.sk-toggleable__label {background-color: #d4ebff;}#sk-container-id-1 div.sk-label input.sk-toggleable__control:checked~label.sk-toggleable__label {background-color: #d4ebff;}#sk-container-id-1 input.sk-hidden--visually {border: 0;clip: rect(1px 1px 1px 1px);clip: rect(1px, 1px, 1px, 1px);height: 1px;margin: -1px;overflow: hidden;padding: 0;position: absolute;width: 1px;}#sk-container-id-1 div.sk-estimator {font-family: monospace;background-color: #f0f8ff;border: 1px dotted black;border-radius: 0.25em;box-sizing: border-box;margin-bottom: 0.5em;}#sk-container-id-1 div.sk-estimator:hover {background-color: #d4ebff;}#sk-container-id-1 div.sk-parallel-item::after {content: \"\";width: 100%;border-bottom: 1px solid gray;flex-grow: 1;}#sk-container-id-1 div.sk-label:hover label.sk-toggleable__label {background-color: #d4ebff;}#sk-container-id-1 div.sk-serial::before {content: \"\";position: absolute;border-left: 1px solid gray;box-sizing: border-box;top: 0;bottom: 0;left: 50%;z-index: 0;}#sk-container-id-1 div.sk-serial {display: flex;flex-direction: column;align-items: center;background-color: white;padding-right: 0.2em;padding-left: 0.2em;position: relative;}#sk-container-id-1 div.sk-item {position: relative;z-index: 1;}#sk-container-id-1 div.sk-parallel {display: flex;align-items: stretch;justify-content: center;background-color: white;position: relative;}#sk-container-id-1 div.sk-item::before, #sk-container-id-1 div.sk-parallel-item::before {content: \"\";position: absolute;border-left: 1px solid gray;box-sizing: border-box;top: 0;bottom: 0;left: 50%;z-index: -1;}#sk-container-id-1 div.sk-parallel-item {display: flex;flex-direction: column;z-index: 1;position: relative;background-color: white;}#sk-container-id-1 div.sk-parallel-item:first-child::after {align-self: flex-end;width: 50%;}#sk-container-id-1 div.sk-parallel-item:last-child::after {align-self: flex-start;width: 50%;}#sk-container-id-1 div.sk-parallel-item:only-child::after {width: 0;}#sk-container-id-1 div.sk-dashed-wrapped {border: 1px dashed gray;margin: 0 0.4em 0.5em 0.4em;box-sizing: border-box;padding-bottom: 0.4em;background-color: white;}#sk-container-id-1 div.sk-label label {font-family: monospace;font-weight: bold;display: inline-block;line-height: 1.2em;}#sk-container-id-1 div.sk-label-container {text-align: center;}#sk-container-id-1 div.sk-container {/* jupyter's `normalize.less` sets `[hidden] { display: none; }` but bootstrap.min.css set `[hidden] { display: none !important; }` so we also need the `!important` here to be able to override the default hidden behavior on the sphinx rendered scikit-learn.org. See: https://github.com/scikit-learn/scikit-learn/issues/21755 */display: inline-block !important;position: relative;}#sk-container-id-1 div.sk-text-repr-fallback {display: none;}</style><div id=\"sk-container-id-1\" class=\"sk-top-container\"><div class=\"sk-text-repr-fallback\"><pre>RandomForestRegressor(random_state=42)</pre><b>In a Jupyter environment, please rerun this cell to show the HTML representation or trust the notebook. <br />On GitHub, the HTML representation is unable to render, please try loading this page with nbviewer.org.</b></div><div class=\"sk-container\" hidden><div class=\"sk-item\"><div class=\"sk-estimator sk-toggleable\"><input class=\"sk-toggleable__control sk-hidden--visually\" id=\"sk-estimator-id-1\" type=\"checkbox\" checked><label for=\"sk-estimator-id-1\" class=\"sk-toggleable__label sk-toggleable__label-arrow\">RandomForestRegressor</label><div class=\"sk-toggleable__content\"><pre>RandomForestRegressor(random_state=42)</pre></div></div></div></div></div>"
            ],
            "text/plain": [
              "RandomForestRegressor(random_state=42)"
            ]
          },
          "execution_count": 13,
          "metadata": {},
          "output_type": "execute_result"
        }
      ],
      "source": [
        "# Initialize and train the RandomForestRegressor\n",
        "rf_regressor = RandomForestRegressor(random_state=42)\n",
        "rf_regressor.fit(X_train, y_train)"
      ]
    },
    {
      "cell_type": "code",
      "execution_count": null,
      "id": "4cdf8499",
      "metadata": {
        "id": "4cdf8499"
      },
      "outputs": [],
      "source": [
        "# Predict the prices for test data\n",
        "y_pred = rf_regressor.predict(X_test)"
      ]
    },
    {
      "cell_type": "code",
      "execution_count": null,
      "id": "341fc614",
      "metadata": {
        "id": "341fc614",
        "outputId": "5c051885-bc9a-4ea5-8e38-51818ad499c7"
      },
      "outputs": [
        {
          "name": "stdout",
          "output_type": "stream",
          "text": [
            "Training Set Performance:\n",
            "Mean Squared Error: 200138.787288676\n",
            "Mean Absolute Error: 327.4093554006969\n",
            "R2 Score: 0.9847146456911071\n",
            "\n",
            "Test Set Performance:\n",
            "Mean Squared Error: 1279494.921523264\n",
            "Mean Absolute Error: 873.5175347222222\n",
            "R2 Score: 0.9041058854703208\n",
            "\n",
            "The model may be overfitting.\n"
          ]
        }
      ],
      "source": [
        "# Predictions on both training and test sets\n",
        "y_train_pred = rf_regressor.predict(X_train)\n",
        "y_test_pred = rf_regressor.predict(X_test)\n",
        "\n",
        "# Evaluate the model on the training set\n",
        "mse_train = metrics.mean_squared_error(y_train, y_train_pred)\n",
        "mae_train = metrics.mean_absolute_error(y_train, y_train_pred)\n",
        "r2_train = rf_regressor.score(X_train, y_train)\n",
        "# Evaluate the model on the test set\n",
        "mse_test = metrics.mean_squared_error(y_test, y_test_pred)\n",
        "mae_test = metrics.mean_absolute_error(y_test, y_test_pred)\n",
        "r2_test = rf_regressor.score(X_test, y_test)\n",
        "# Print the evaluation metrics for both sets\n",
        "print(\"Training Set Performance:\")\n",
        "print(f\"Mean Squared Error: {mse_train}\")\n",
        "print(f\"Mean Absolute Error: {mae_train}\")\n",
        "print(f\"R2 Score: {r2_train}\")\n",
        "print(\"\\nTest Set Performance:\")\n",
        "print(f\"Mean Squared Error: {mse_test}\")\n",
        "print(f\"Mean Absolute Error: {mae_test}\")\n",
        "print(f\"R2 Score: {r2_test}\")\n",
        "\n",
        "# Analysis\n",
        "if r2_train > r2_test:\n",
        "    print(\"\\nThe model may be overfitting.\")\n",
        "elif r2_train < 0.5 and r2_test < 0.5:\n",
        "    print(\"\\nThe model may be underfitting.\")\n",
        "else:\n",
        "    print(\"\\nThe model is performing reasonably well.\")"
      ]
    },
    {
      "cell_type": "code",
      "execution_count": null,
      "id": "9cd9a337",
      "metadata": {
        "id": "9cd9a337",
        "outputId": "8966c619-6193-45be-ea28-ac2099f08c07"
      },
      "outputs": [
        {
          "name": "stdout",
          "output_type": "stream",
          "text": [
            "     Feature  Importance\n",
            "0        Age    0.577605\n",
            "8     Weight    0.272990\n",
            "1         KM    0.105649\n",
            "3         HP    0.020108\n",
            "7      Doors    0.006220\n",
            "6         CC    0.005570\n",
            "2   FuelType    0.005229\n",
            "4   MetColor    0.004976\n",
            "5  Automatic    0.001652\n"
          ]
        }
      ],
      "source": [
        "# Refit the model if necessary and get feature importances\n",
        "importances = rf_regressor.feature_importances_\n",
        "\n",
        "# Combine and sort feature importance\n",
        "importance_df = pd.DataFrame({'Feature': X.columns, 'Importance': importances})\n",
        "print(importance_df.sort_values(by='Importance', ascending=False))"
      ]
    },
    {
      "cell_type": "code",
      "execution_count": null,
      "id": "9e0c7eea",
      "metadata": {
        "id": "9e0c7eea",
        "outputId": "3ad5bfca-89ef-4d67-c9ae-145c4bbbf03a"
      },
      "outputs": [
        {
          "data": {
            "image/png": "[encoded data removed]",
            "text/plain": [
              "<Figure size 1000x600 with 1 Axes>"
            ]
          },
          "metadata": {},
          "output_type": "display_data"
        }
      ],
      "source": [
        "# sort the feature importance in descending order\n",
        "importance_df= importance_df.sort_values(by='Importance',ascending=False)\n",
        "\n",
        "#plot the feature importance\n",
        "plt.figure(figsize=(10,6))\n",
        "sns.barplot(x='Importance', y= 'Feature', data= importance_df, palette='viridis')\n",
        "\n",
        "# Add a title and labels\n",
        "plt.title('Feature Importance', fontsize=16)\n",
        "plt.xlabel('Importance', fontsize=14)\n",
        "plt.ylabel('Feature', fontsize=14)\n",
        "\n",
        "# Show the plot\n",
        "plt.tight_layout()\n",
        "plt.show()"
      ]
    },
    {
      "cell_type": "code",
      "execution_count": null,
      "id": "29c0d9e0",
      "metadata": {
        "id": "29c0d9e0"
      },
      "outputs": [],
      "source": [
        "# # # Drop less important features\n",
        "X_reduced = X.drop(['Automatic', 'MetColor', 'FuelType', 'CC'], axis=1)"
      ]
    },
    {
      "cell_type": "code",
      "execution_count": null,
      "id": "45b096c0",
      "metadata": {
        "id": "45b096c0",
        "outputId": "07dbaddb-2802-4647-fd4a-c0ba20f1a227"
      },
      "outputs": [
        {
          "name": "stdout",
          "output_type": "stream",
          "text": [
            "Fitting 5 folds for each of 240 candidates, totalling 1200 fits\n",
            "Best Parameters: {'max_depth': 15, 'max_features': 'log2', 'min_samples_leaf': 2, 'min_samples_split': 2, 'n_estimators': 50}\n",
            "Best R2 Score from CV: 0.8820037600701497\n"
          ]
        }
      ],
      "source": [
        "# Define the parameter grid for GridSearchCV\n",
        "param_grid = {\n",
        "'n_estimators': [50, 100, 200],\n",
        "'max_depth': [2,3,5, 10, 15],\n",
        "'min_samples_split': [2, 3, 5, 10],\n",
        "'min_samples_leaf': [2, 4],\n",
        "'max_features': ['sqrt', 'log2']\n",
        "}\n",
        "# Initialize the RandomForestRegressor\n",
        "rf = RandomForestRegressor()\n",
        "# Set up the GridSearchCV with 5-fold cross-validation\n",
        "grid_search = GridSearchCV(estimator=rf, param_grid=param_grid, cv=5,n_jobs=-1, verbose=2, scoring='r2')\n",
        "# Fit the model to the training data\n",
        "grid_search.fit(X_train, y_train)\n",
        "\n",
        "# Print the best parameters and the best score from the grid search\n",
        "print(f\"Best Parameters: {grid_search.best_params_}\")\n",
        "print(f\"Best R2 Score from CV: {grid_search.best_score_}\")"
      ]
    },
    {
      "cell_type": "code",
      "execution_count": null,
      "id": "b30dff8d",
      "metadata": {
        "id": "b30dff8d",
        "outputId": "80add3a3-5e1c-4053-8319-edb81859396f"
      },
      "outputs": [
        {
          "name": "stdout",
          "output_type": "stream",
          "text": [
            "Training Set Performance:\n",
            "R2 Score: 0.9532867560933107\n",
            "Mean Absolute Error (MAE): 573.3137987351513\n",
            "Mean Squared Error (MSE): 611639.8610639769\n",
            "\n",
            "Test Set Performance:\n",
            "R2 Score: 0.9093414382659246\n",
            "Mean Absolute Error (MAE): 823.783898955196\n",
            "Mean Squared Error (MSE): 1209638.04609147\n",
            "\n",
            "The model may be overfitting.\n"
          ]
        }
      ],
      "source": [
        "# Use the best estimator to make predictions on the train and test set\n",
        "best_rf = grid_search.best_estimator_\n",
        "# Make predictions\n",
        "y_train_pred = best_rf.predict(X_train)\n",
        "y_test_pred = best_rf.predict(X_test)\n",
        "\n",
        "# Calculate metrics for training set\n",
        "mae_train = metrics.mean_absolute_error(y_train, y_train_pred)\n",
        "mse_train = metrics.mean_squared_error(y_train, y_train_pred)\n",
        "r2_train = metrics.r2_score(y_train, y_train_pred)\n",
        "\n",
        "# Calculate metrics for test set\n",
        "mae_test = metrics.mean_absolute_error(y_test, y_test_pred)\n",
        "mse_test = metrics.mean_squared_error(y_test, y_test_pred)\n",
        "r2_test = metrics.r2_score(y_test, y_test_pred)\n",
        "\n",
        "# Print the evaluation metrics\n",
        "print(\"Training Set Performance:\")\n",
        "print(f\"R2 Score: {r2_train}\")\n",
        "print(f\"Mean Absolute Error (MAE): {mae_train}\")\n",
        "print(f\"Mean Squared Error (MSE): {mse_train}\")\n",
        "print(\"\\nTest Set Performance:\")\n",
        "print(f\"R2 Score: {r2_test}\")\n",
        "print(f\"Mean Absolute Error (MAE): {mae_test}\")\n",
        "print(f\"Mean Squared Error (MSE): {mse_test}\")\n",
        "\n",
        "# Analysis\n",
        "if r2_train > r2_test:\n",
        "    print(\"\\nThe model may be overfitting.\")\n",
        "elif r2_train < 0.5 and r2_test < 0.5:\n",
        "    print(\"\\nThe model may be underfitting.\")\n",
        "else:\n",
        "    print(\"\\nThe model is performing reasonably well.\")"
      ]
    },
    {
      "cell_type": "code",
      "execution_count": null,
      "id": "6c121676",
      "metadata": {
        "id": "6c121676"
      },
      "outputs": [],
      "source": []
    }
  ],
  "metadata": {
    "kernelspec": {
      "display_name": "Python 3 (ipykernel)",
      "language": "python",
      "name": "python3"
    },
    "language_info": {
      "codemirror_mode": {
        "name": "ipython",
        "version": 3
      },
      "file_extension": ".py",
      "mimetype": "text/x-python",
      "name": "python",
      "nbconvert_exporter": "python",
      "pygments_lexer": "ipython3",
      "version": "3.11.5"
    },
    "colab": {
      "provenance": []
    }
  },
  "nbformat": 4,
  "nbformat_minor": 5
}