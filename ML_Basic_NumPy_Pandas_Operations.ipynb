{
  "cells": [
    {
      "cell_type": "code",
      "execution_count": 1,
      "id": "ff70a035",
      "metadata": {
        "colab": {
          "base_uri": "https://localhost:8080/"
        },
        "id": "ff70a035",
        "outputId": "e55ba700-d86b-4cc5-ac87-18d0bf7e9252"
      },
      "outputs": [
        {
          "output_type": "stream",
          "name": "stdout",
          "text": [
            "Enter a number: 4\n",
            "[0, 1, 1, 2, 3, 5]\n"
          ]
        }
      ],
      "source": [
        "# Nilesh Kale (AI3005)\n",
        "\n",
        "# Creating Array of fibonacci series Manually\n",
        "\n",
        "n=int(input(\"Enter a number: \"))\n",
        "a=0\n",
        "b=1\n",
        "l=[]\n",
        "l.append(a)\n",
        "l.append(b)\n",
        "for i in range(n):\n",
        "    c=a+b\n",
        "    l.append(c)\n",
        "    a=b\n",
        "    b=c\n",
        "print(l)"
      ]
    },
    {
      "cell_type": "code",
      "execution_count": 2,
      "id": "8f067cb2",
      "metadata": {
        "colab": {
          "base_uri": "https://localhost:8080/"
        },
        "id": "8f067cb2",
        "outputId": "9a9531b6-20d9-4dc8-b358-767e9984d91d"
      },
      "outputs": [
        {
          "output_type": "stream",
          "name": "stdout",
          "text": [
            "Resultant Matrix:\n",
            "[12, 15, 12]\n",
            "[12, 8, 11]\n",
            "[10, 14, 18]\n"
          ]
        }
      ],
      "source": [
        "# Manually Addition of Matrix\n",
        "def add_matrices (matrix1, matrix2):\n",
        "    if len(matrix1) != len(matrix2) or len(matrix1[0]) != len(matrix2[0]):\n",
        "        print(\"Matrices cannot be added as they have different dimensions.\")\n",
        "        return None\n",
        "\n",
        "     #Initialize the result matrix with the same dimensions\n",
        "    result_matrix = [[0 for _ in range(len(matrix1[0]))] for _ in range(len(matrix1))]\n",
        "\n",
        "    #Perform matrix addition\n",
        "\n",
        "    for i in range(len(matrix1)):\n",
        "        for j in range(len(matrix1[0])):\n",
        "            result_matrix[i][j] = matrix1[i][j]+ matrix2[i][j]\n",
        "\n",
        "    return result_matrix\n",
        "\n",
        "# Example usage:\n",
        "matrix1 = [[3, 7, 9],\n",
        "           [6, 1, 3],\n",
        "           [7, 8, 9]]\n",
        "matrix2 = [[9, 8, 3],\n",
        "           [6, 7, 8],\n",
        "           [3, 6, 9]]\n",
        "\n",
        "result= add_matrices (matrix1, matrix2)\n",
        "if result:\n",
        "    print(\"Resultant Matrix:\")\n",
        "    for row in result:\n",
        "        print(row)"
      ]
    },
    {
      "cell_type": "code",
      "execution_count": 3,
      "id": "0b81b65d",
      "metadata": {
        "id": "0b81b65d"
      },
      "outputs": [],
      "source": [
        "#pr. 2 theory on np and pd\n",
        "\n",
        "import pandas as pd\n",
        "import numpy as np"
      ]
    },
    {
      "cell_type": "code",
      "execution_count": 4,
      "id": "abc982e7",
      "metadata": {
        "scrolled": true,
        "colab": {
          "base_uri": "https://localhost:8080/",
          "height": 272
        },
        "id": "abc982e7",
        "outputId": "231fb718-70a5-4687-b7f4-8432d0f90578"
      },
      "outputs": [
        {
          "output_type": "execute_result",
          "data": {
            "text/plain": [
              "0    1.0\n",
              "1    3.0\n",
              "2    5.0\n",
              "3    NaN\n",
              "4    6.0\n",
              "5    8.0\n",
              "dtype: float64"
            ],
            "text/html": [
              "<div>\n",
              "<style scoped>\n",
              "    .dataframe tbody tr th:only-of-type {\n",
              "        vertical-align: middle;\n",
              "    }\n",
              "\n",
              "    .dataframe tbody tr th {\n",
              "        vertical-align: top;\n",
              "    }\n",
              "\n",
              "    .dataframe thead th {\n",
              "        text-align: right;\n",
              "    }\n",
              "</style>\n",
              "<table border=\"1\" class=\"dataframe\">\n",
              "  <thead>\n",
              "    <tr style=\"text-align: right;\">\n",
              "      <th></th>\n",
              "      <th>0</th>\n",
              "    </tr>\n",
              "  </thead>\n",
              "  <tbody>\n",
              "    <tr>\n",
              "      <th>0</th>\n",
              "      <td>1.0</td>\n",
              "    </tr>\n",
              "    <tr>\n",
              "      <th>1</th>\n",
              "      <td>3.0</td>\n",
              "    </tr>\n",
              "    <tr>\n",
              "      <th>2</th>\n",
              "      <td>5.0</td>\n",
              "    </tr>\n",
              "    <tr>\n",
              "      <th>3</th>\n",
              "      <td>NaN</td>\n",
              "    </tr>\n",
              "    <tr>\n",
              "      <th>4</th>\n",
              "      <td>6.0</td>\n",
              "    </tr>\n",
              "    <tr>\n",
              "      <th>5</th>\n",
              "      <td>8.0</td>\n",
              "    </tr>\n",
              "  </tbody>\n",
              "</table>\n",
              "</div><br><label><b>dtype:</b> float64</label>"
            ]
          },
          "metadata": {},
          "execution_count": 4
        }
      ],
      "source": [
        "s = pd.Series([1, 3, 5, np.nan, 6, 8])\n",
        "s"
      ]
    },
    {
      "cell_type": "code",
      "execution_count": 5,
      "id": "576967b5",
      "metadata": {
        "colab": {
          "base_uri": "https://localhost:8080/"
        },
        "id": "576967b5",
        "outputId": "83b8c620-7d9f-4aee-ea66-968dd3e1791a"
      },
      "outputs": [
        {
          "output_type": "stream",
          "name": "stdout",
          "text": [
            "0     3.0\n",
            "1     5.0\n",
            "2     7.0\n",
            "3     NaN\n",
            "4     8.0\n",
            "5    10.0\n",
            "dtype: float64\n",
            "mean\n",
            " 4.6\n",
            "Missing values\n",
            " 0    False\n",
            "1    False\n",
            "2    False\n",
            "3     True\n",
            "4    False\n",
            "5    False\n",
            "dtype: bool\n",
            "Handling Missing values\n",
            " 0    1.0\n",
            "1    3.0\n",
            "2    5.0\n",
            "3    0.0\n",
            "4    6.0\n",
            "5    8.0\n",
            "dtype: float64\n",
            "Sorting values\n",
            " 3    0.0\n",
            "0    1.0\n",
            "1    3.0\n",
            "2    5.0\n",
            "4    6.0\n",
            "5    8.0\n",
            "dtype: float64\n"
          ]
        }
      ],
      "source": [
        "# Arithmetic operation\n",
        "print(s + 2)\n",
        "\n",
        "# Aggregation operation\n",
        "print(\"mean\\n\",s.mean())\n",
        "\n",
        "# Finding missing data\n",
        "print(\"Missing values\\n\", s.isnull())\n",
        "# Handle missing data\n",
        "print(\"Handling Missing values\\n\", s.fillna(0))\n",
        "s= s.fillna(0)\n",
        "# Sorting\n",
        "print(\"Sorting values\\n\",s.sort_values())"
      ]
    },
    {
      "cell_type": "code",
      "execution_count": 6,
      "id": "18be375f",
      "metadata": {
        "colab": {
          "base_uri": "https://localhost:8080/"
        },
        "id": "18be375f",
        "outputId": "a313a799-6431-4491-db6b-bf903d2dd555"
      },
      "outputs": [
        {
          "output_type": "stream",
          "name": "stdout",
          "text": [
            "Applying Lamda Functions\n",
            " 0     1.0\n",
            "1     9.0\n",
            "2    25.0\n",
            "3     0.0\n",
            "4    36.0\n",
            "5    64.0\n",
            "dtype: float64\n",
            "Statistical values\n",
            " 0     1.0\n",
            "1     4.0\n",
            "2     9.0\n",
            "3     9.0\n",
            "4    15.0\n",
            "5    23.0\n",
            "dtype: float64\n",
            "Description\n",
            " count    6.000000\n",
            "mean     3.833333\n",
            "std      3.060501\n",
            "min      0.000000\n",
            "25%      1.500000\n",
            "50%      4.000000\n",
            "75%      5.750000\n",
            "max      8.000000\n",
            "dtype: float64\n"
          ]
        }
      ],
      "source": [
        "# Apply function\n",
        "print(\"Applying Lamda Functions\\n\",s.apply(lambda x: x**2))\n",
        "# Statistical functions\n",
        "print(\"Statistical values\\n\",s.cumsum())\n",
        "# Describe\n",
        "print(\"Description\\n\",s.describe())"
      ]
    },
    {
      "cell_type": "code",
      "execution_count": 7,
      "id": "6dee2994",
      "metadata": {
        "colab": {
          "base_uri": "https://localhost:8080/"
        },
        "id": "6dee2994",
        "outputId": "a7b04692-70cb-434b-a823-4ba6fee4ccc8"
      },
      "outputs": [
        {
          "output_type": "stream",
          "name": "stdout",
          "text": [
            "DataFrame:\n",
            "       Name  Age  Score\n",
            "0    Alice   24   85.5\n",
            "1      Bob   27   90.0\n",
            "2  Charlie   22   78.5\n",
            "3    David   32   88.0\n"
          ]
        }
      ],
      "source": [
        "# Creating a DataFrame\n",
        "data = {\n",
        "'Name': ['Alice', 'Bob', 'Charlie', 'David'],\n",
        "'Age': [24, 27, 22, 32],\n",
        "'Score': [85.5, 90.0, 78.5, 88.0]\n",
        "}\n",
        "df = pd.DataFrame(data)\n",
        "# Display the DataFrame\n",
        "print(\"DataFrame:\\n\", df)"
      ]
    },
    {
      "cell_type": "code",
      "execution_count": 8,
      "id": "302a048e",
      "metadata": {
        "scrolled": true,
        "colab": {
          "base_uri": "https://localhost:8080/"
        },
        "id": "302a048e",
        "outputId": "f4fc7721-0b20-4845-a02a-f54254305c1e"
      },
      "outputs": [
        {
          "output_type": "stream",
          "name": "stdout",
          "text": [
            "\n",
            "Summary statistics:\n",
            "              Age      Score\n",
            "count   4.000000   4.000000\n",
            "mean   26.250000  85.500000\n",
            "std     4.349329   5.016639\n",
            "min    22.000000  78.500000\n",
            "25%    23.500000  83.750000\n",
            "50%    25.500000  86.750000\n",
            "75%    28.250000  88.500000\n",
            "max    32.000000  90.000000\n",
            "\n",
            "Column Names:\n",
            " Index(['Name', 'Age', 'Score'], dtype='object')\n"
          ]
        }
      ],
      "source": [
        "# Basic operations\n",
        "print(\"\\nSummary statistics:\\n\", df.describe())\n",
        "print(\"\\nColumn Names:\\n\", df.columns)"
      ]
    },
    {
      "cell_type": "code",
      "execution_count": 9,
      "id": "b3918411",
      "metadata": {
        "colab": {
          "base_uri": "https://localhost:8080/"
        },
        "id": "b3918411",
        "outputId": "2df86c2b-d7ba-4e97-a082-928fc1883647"
      },
      "outputs": [
        {
          "output_type": "stream",
          "name": "stdout",
          "text": [
            "\n",
            "First Four rows:\n",
            "       Name  Age  Score\n",
            "0    Alice   24   85.5\n",
            "1      Bob   27   90.0\n",
            "2  Charlie   22   78.5\n",
            "3    David   32   88.0\n"
          ]
        }
      ],
      "source": [
        "print(\"\\nFirst Four rows:\\n\", df.head(4))"
      ]
    },
    {
      "cell_type": "code",
      "execution_count": 10,
      "id": "5765b944",
      "metadata": {
        "colab": {
          "base_uri": "https://localhost:8080/"
        },
        "id": "5765b944",
        "outputId": "e9efc42c-2de7-4e47-84c7-fe4dd5dc2dd4"
      },
      "outputs": [
        {
          "output_type": "stream",
          "name": "stdout",
          "text": [
            "\n",
            "DataFrame with Top Score column:\n",
            "       Name  Age  Score  Top Score\n",
            "0    Alice   24   85.5       True\n",
            "1      Bob   27   90.0       True\n",
            "2  Charlie   22   78.5      False\n",
            "3    David   32   88.0       True\n"
          ]
        }
      ],
      "source": [
        "df['Top Score'] = df['Score'] >= 85\n",
        "print(\"\\nDataFrame with Top Score column:\\n\", df)"
      ]
    },
    {
      "cell_type": "code",
      "execution_count": 11,
      "id": "98c1e1ce",
      "metadata": {
        "colab": {
          "base_uri": "https://localhost:8080/"
        },
        "id": "98c1e1ce",
        "outputId": "88210e74-14f0-4847-8817-4856fe6f8baa"
      },
      "outputs": [
        {
          "output_type": "stream",
          "name": "stdout",
          "text": [
            "\n",
            "Students with top scores:\n",
            " 0    Alice\n",
            "1      Bob\n",
            "3    David\n",
            "Name: Name, dtype: object\n"
          ]
        }
      ],
      "source": [
        "top_scorers = df[df['Top Score']]['Name']\n",
        "print(\"\\nStudents with top scores:\\n\", top_scorers)"
      ]
    },
    {
      "cell_type": "code",
      "execution_count": 12,
      "id": "2ed290ef",
      "metadata": {
        "colab": {
          "base_uri": "https://localhost:8080/"
        },
        "id": "2ed290ef",
        "outputId": "3e77ad66-1e53-4325-8a62-60715a0e1890"
      },
      "outputs": [
        {
          "output_type": "stream",
          "name": "stdout",
          "text": [
            "\n",
            "DataFrame sorted by Score in descending order:\n",
            "       Name  Age  Score  Top Score\n",
            "1      Bob   27   90.0       True\n",
            "3    David   32   88.0       True\n",
            "0    Alice   24   85.5       True\n",
            "2  Charlie   22   78.5      False\n"
          ]
        }
      ],
      "source": [
        "sorted_df = df.sort_values(by='Score', ascending=False)\n",
        "print(\"\\nDataFrame sorted by Score in descending order:\\n\", sorted_df)"
      ]
    },
    {
      "cell_type": "code",
      "execution_count": 13,
      "id": "ef562baa",
      "metadata": {
        "colab": {
          "base_uri": "https://localhost:8080/"
        },
        "id": "ef562baa",
        "outputId": "7d98a560-f6c9-43fb-866a-5d843dd0ced0"
      },
      "outputs": [
        {
          "output_type": "stream",
          "name": "stdout",
          "text": [
            "\n",
            "DataFrame with missing value filled:\n",
            "       Name  Age  Score  Top Score\n",
            "0    Alice   24   85.5       True\n",
            "1      Bob   27   90.0       True\n",
            "2  Charlie   22   78.5      False\n",
            "3    David   32   88.0       True\n"
          ]
        },
        {
          "output_type": "stream",
          "name": "stderr",
          "text": [
            "/tmp/ipython-input-3355374703.py:2: FutureWarning: A value is trying to be set on a copy of a DataFrame or Series through chained assignment using an inplace method.\n",
            "The behavior will change in pandas 3.0. This inplace method will never work because the intermediate object on which we are setting values always behaves as a copy.\n",
            "\n",
            "For example, when doing 'df[col].method(value, inplace=True)', try using 'df.method({col: value}, inplace=True)' or df[col] = df[col].method(value) instead, to perform the operation inplace on the original object.\n",
            "\n",
            "\n",
            "  df['Score'].fillna(df['Score'].mean(), inplace=True)\n"
          ]
        }
      ],
      "source": [
        "# Filling missing values with the mean percentage\n",
        "df['Score'].fillna(df['Score'].mean(), inplace=True)\n",
        "print(\"\\nDataFrame with missing value filled:\\n\", df)"
      ]
    },
    {
      "cell_type": "code",
      "execution_count": 14,
      "id": "4aaac0f8",
      "metadata": {
        "colab": {
          "base_uri": "https://localhost:8080/"
        },
        "id": "4aaac0f8",
        "outputId": "98d2af8c-5155-45c2-d936-8a83b2a00646"
      },
      "outputs": [
        {
          "output_type": "stream",
          "name": "stdout",
          "text": [
            "\n",
            "DataFrame with Age Group column:\n",
            "       Name  Age  Score  Top Score     Age Group\n",
            "0    Alice   24   85.5       True      Under 25\n",
            "1      Bob   27   90.0       True  25 and above\n",
            "2  Charlie   22   78.5      False      Under 25\n",
            "3    David   32   88.0       True  25 and above\n"
          ]
        }
      ],
      "source": [
        "df['Age Group'] = df['Age'].apply(lambda x: 'Under 25' if x < 25 else '25 and above')\n",
        "print(\"\\nDataFrame with Age Group column:\\n\", df)"
      ]
    },
    {
      "cell_type": "code",
      "execution_count": 15,
      "id": "a701b67d",
      "metadata": {
        "colab": {
          "base_uri": "https://localhost:8080/"
        },
        "id": "a701b67d",
        "outputId": "f80cdb64-ab62-4257-d630-446a21c81d93"
      },
      "outputs": [
        {
          "output_type": "stream",
          "name": "stdout",
          "text": [
            "\n",
            "Mean Score by Age Group:\n",
            " Age Group\n",
            "25 and above    89.0\n",
            "Under 25        82.0\n",
            "Name: Score, dtype: float64\n"
          ]
        }
      ],
      "source": [
        "mean_score_by_age_group = df.groupby('Age Group')['Score'].mean()\n",
        "print(\"\\nMean Score by Age Group:\\n\", mean_score_by_age_group)"
      ]
    },
    {
      "cell_type": "code",
      "execution_count": 16,
      "id": "0c206a95",
      "metadata": {
        "colab": {
          "base_uri": "https://localhost:8080/"
        },
        "id": "0c206a95",
        "outputId": "f27a6ebb-50c3-4ba7-baa6-4dc092197379"
      },
      "outputs": [
        {
          "output_type": "stream",
          "name": "stdout",
          "text": [
            "\n",
            "Name and Score columns:\n",
            "       Name  Score\n",
            "0    Alice   85.5\n",
            "1      Bob   90.0\n",
            "2  Charlie   78.5\n",
            "3    David   88.0\n"
          ]
        }
      ],
      "source": [
        "name_score_df = df[['Name', 'Score']]\n",
        "print(\"\\nName and Score columns:\\n\", name_score_df)"
      ]
    },
    {
      "cell_type": "code",
      "execution_count": 17,
      "id": "de4fa6d4",
      "metadata": {
        "colab": {
          "base_uri": "https://localhost:8080/"
        },
        "id": "de4fa6d4",
        "outputId": "6c6a790b-d745-4353-8586-d896de3e7444"
      },
      "outputs": [
        {
          "output_type": "stream",
          "name": "stdout",
          "text": [
            "\n",
            "DataFrame after dropping 'Top Score' column:\n",
            "       Name  Age  Score     Age Group\n",
            "0    Alice   24   85.5      Under 25\n",
            "1      Bob   27   90.0  25 and above\n",
            "2  Charlie   22   78.5      Under 25\n",
            "3    David   32   88.0  25 and above\n"
          ]
        }
      ],
      "source": [
        "df = df.drop(columns=['Top Score'])\n",
        "print(\"\\nDataFrame after dropping 'Top Score' column:\\n\", df)"
      ]
    },
    {
      "cell_type": "code",
      "execution_count": 18,
      "id": "d833f860",
      "metadata": {
        "id": "d833f860"
      },
      "outputs": [],
      "source": [
        "data = {\n",
        "\n",
        "'Name': ['Alice', 'Bob', 'Charlie', 'David', 'Eve', 'Frank', 'Grace','Hannah'],\n",
        "'Roll No': [1, 2, 3, 4, 5, 6, 7, 8],\n",
        "'Address': ['123 Maple St', '456 Oak St', '789 Pine St', np.nan, '202 CedarSt', '303 Elm St', np.nan, '505 Walnut St'],\n",
        "'Age': [20, 21, np.nan, 22, 20, 21, 19, 22],\n",
        "'Percentage': [85, np.nan, 78, 88, 95, 70, 82, np.nan],\n",
        "'Gender': ['F', 'M', 'M', 'M', 'F', 'M', 'F', 'F']\n",
        "}"
      ]
    },
    {
      "cell_type": "code",
      "execution_count": 19,
      "id": "da9b180d",
      "metadata": {
        "id": "da9b180d"
      },
      "outputs": [],
      "source": [
        "df = pd.DataFrame(data)"
      ]
    },
    {
      "cell_type": "code",
      "execution_count": 20,
      "id": "52558cf8",
      "metadata": {
        "colab": {
          "base_uri": "https://localhost:8080/"
        },
        "id": "52558cf8",
        "outputId": "9f98b606-d3a1-41d7-8754-c1dc4fd06eb6"
      },
      "outputs": [
        {
          "output_type": "stream",
          "name": "stdout",
          "text": [
            "      Name  Roll No\n",
            "0    Alice        1\n",
            "1      Bob        2\n",
            "2  Charlie        3\n",
            "3    David        4\n",
            "4      Eve        5\n",
            "5    Frank        6\n",
            "6    Grace        7\n",
            "7   Hannah        8\n"
          ]
        }
      ],
      "source": [
        "# Select specific columns\n",
        "selected_columns = df[['Name', 'Roll No']]\n",
        "print(selected_columns)"
      ]
    },
    {
      "cell_type": "code",
      "execution_count": 21,
      "id": "fc0f0199",
      "metadata": {
        "colab": {
          "base_uri": "https://localhost:8080/"
        },
        "id": "fc0f0199",
        "outputId": "f505166d-e609-46ec-e417-103cf8302f5b"
      },
      "outputs": [
        {
          "output_type": "stream",
          "name": "stdout",
          "text": [
            "1st 2D Array:\n",
            " [[1 2 3]\n",
            " [4 5 6]]\n",
            "2nd 2D Array:\n",
            " [[7 8 9]\n",
            " [5 4 3]]\n",
            "----------------------------\n",
            "we can make addition of the matrics\n",
            "----------------------------\n",
            "Addition is:\n",
            " [[ 8 10 12]\n",
            " [ 9  9  9]]\n",
            "----------------------------\n",
            "Multiplication is:\n",
            " [[ 1  8 21]\n",
            " [ 8 25 48]\n",
            " [21 48 81]]\n"
          ]
        }
      ],
      "source": [
        "\n",
        "#1. Create 2-D matrices using NumPy.\n",
        "arr1=np.array([[1, 2, 3], [4, 5, 6]])\n",
        "arr2=np.array([[7, 8, 9], [5, 4, 3]])\n",
        "print(\"1st 2D Array:\\n\", arr1)\n",
        "print(\"2nd 2D Array:\\n\", arr2)\n",
        "\n",
        "print(\"----------------------------\")\n",
        "\n",
        "# 2. Verify the conditions for matrix addition.\n",
        "if np.shape(arr1)==np.shape(arr2):\n",
        "    print(\"we can make addition of the matrics\")\n",
        "else:\n",
        "    print(\"we can not make addition of the matrics\")\n",
        "print(\"----------------------------\")\n",
        "\n",
        "# 3. Perform matrix addition.\n",
        "res=arr1+arr2\n",
        "print(\"Addition is:\\n\",res)\n",
        "print(\"----------------------------\")\n",
        "\n",
        "# 4. Compute the transpose of one of your matrices and perform matrix multiplication with its\n",
        "# original matrix.\n",
        "a=np.array([[1,2,3],[4 , 5, 6],[7, 8, 9]])\n",
        "trn_a=np.transpose(a)\n",
        "print(\"Multiplication is:\\n\",np.multiply(a,trn_a))"
      ]
    },
    {
      "cell_type": "code",
      "execution_count": 22,
      "id": "570dbd65",
      "metadata": {
        "colab": {
          "base_uri": "https://localhost:8080/"
        },
        "id": "570dbd65",
        "outputId": "46984ad4-39aa-4b16-c6b1-fb55596af43e"
      },
      "outputs": [
        {
          "output_type": "stream",
          "name": "stdout",
          "text": [
            "Average sales for Each Product:\n",
            " [1275.   987.5 1625.   875. ]\n",
            "----------------------------\n",
            "Highest sale for each product is:\n",
            " [1500 1200 1800  950]\n",
            "Lowest sale for each product is:\n",
            " [1100  800 1400  800]\n",
            "----------------------------\n",
            "Overall Average sales:\n",
            " 1190.625\n",
            "----------------------------\n",
            "Product who sales above the threshold:\n",
            "  [ True False  True False]\n",
            "----------------------------\n"
          ]
        }
      ],
      "source": [
        "# Q.2 Sales Data Analysis\n",
        "\n",
        "sales_data = np.array([\n",
        "    [1200, 1500, 1300, 1100], # Product 1 sales\n",
        "    [800, 950, 1000, 1200], # Product 2 sales\n",
        "    [1400, 1600, 1700, 1800], # Product 3 sales\n",
        "    [900, 800, 850, 950] # Product 4 sales\n",
        "])\n",
        "\n",
        "# 1. Calculate the average sales for each product.\n",
        "avg = np.mean(sales_data, axis=1)\n",
        "print(\"Average sales for Each Product:\\n\", avg)\n",
        "print(\"----------------------------\")\n",
        "\n",
        "# 2. Determine the highest and lowest sales figures for each product.\n",
        "high_sale= np.max(sales_data, axis=1)\n",
        "low_sale= np.min(sales_data, axis=1)\n",
        "print(\"Highest sale for each product is:\\n\", high_sale)\n",
        "print(\"Lowest sale for each product is:\\n\", low_sale)\n",
        "print(\"----------------------------\")\n",
        "\n",
        "# 3. Compute the overall average sales across all products.\n",
        "overall_average = np.mean(sales_data)\n",
        "print(\"Overall Average sales:\\n\", overall_average)\n",
        "print(\"----------------------------\")\n",
        "\n",
        "# 4. Make threshold sales >1000, show how many of them are above and below the threshold\n",
        "threshold = 1000\n",
        "above_threshold = np.all(sales_data > threshold, axis=1)\n",
        "print(\"Product who sales above the threshold:\\n \",above_threshold)\n",
        "print(\"----------------------------\")"
      ]
    },
    {
      "cell_type": "code",
      "execution_count": 23,
      "id": "815f4f03",
      "metadata": {
        "colab": {
          "base_uri": "https://localhost:8080/"
        },
        "id": "815f4f03",
        "outputId": "fd278041-f523-4ea8-8f8a-74040d16b774"
      },
      "outputs": [
        {
          "output_type": "stream",
          "name": "stdout",
          "text": [
            "DataFrame:\n",
            "       Name  Roll No        Address   Age  Percentage Gender\n",
            "0    Alice        1   123 Maple St  20.0        85.0      F\n",
            "1      Bob        2     456 Oak St  21.0         NaN      M\n",
            "2  Charlie        3    789 Pine St   NaN        78.0      M\n",
            "3    David        4            NaN  22.0        88.0      M\n",
            "4      Eve        5    202 CedarSt  20.0        95.0      F\n",
            "5    Frank        6     303 Elm St  21.0        70.0      M\n",
            "6    Grace        7            NaN  19.0        82.0      F\n",
            "7   Hannah        8  505 Walnut St  22.0         NaN      F\n",
            "----------------------------\n",
            "\n",
            "First five rows:\n",
            "       Name  Roll No       Address   Age  Percentage Gender\n",
            "0    Alice        1  123 Maple St  20.0        85.0      F\n",
            "1      Bob        2    456 Oak St  21.0         NaN      M\n",
            "2  Charlie        3   789 Pine St   NaN        78.0      M\n",
            "3    David        4           NaN  22.0        88.0      M\n",
            "4      Eve        5   202 CedarSt  20.0        95.0      F\n",
            "----------------------------\n",
            "Name           object\n",
            "Roll No         int64\n",
            "Address        object\n",
            "Age           float64\n",
            "Percentage    float64\n",
            "Gender         object\n",
            "dtype: object\n",
            "----------------------------\n",
            "\n",
            "Handling Missing values:\n",
            "       Name  Roll No        Address        Age  Percentage Gender\n",
            "0    Alice        1   123 Maple St  20.000000        85.0      F\n",
            "1      Bob        2     456 Oak St  21.000000        83.0      M\n",
            "2  Charlie        3    789 Pine St  20.714286        78.0      M\n",
            "3    David        4        Unknown  22.000000        88.0      M\n",
            "4      Eve        5    202 CedarSt  20.000000        95.0      F\n",
            "5    Frank        6     303 Elm St  21.000000        70.0      M\n",
            "6    Grace        7        Unknown  19.000000        82.0      F\n",
            "7   Hannah        8  505 Walnut St  22.000000        83.0      F\n",
            "----------------------------\n",
            "\n",
            "the mean age is: 20.714285714285715\n",
            "the mean percentage is: 83.0\n",
            "----------------------------\n",
            "\n",
            "DataFrame with Pass column:\n",
            "       Name  Roll No        Address        Age  Percentage Gender   Pass\n",
            "0    Alice        1   123 Maple St  20.000000        85.0      F   True\n",
            "1      Bob        2     456 Oak St  21.000000        83.0      M   True\n",
            "2  Charlie        3    789 Pine St  20.714286        78.0      M   True\n",
            "3    David        4        Unknown  22.000000        88.0      M   True\n",
            "4      Eve        5    202 CedarSt  20.000000        95.0      F   True\n",
            "5    Frank        6     303 Elm St  21.000000        70.0      M  False\n",
            "6    Grace        7        Unknown  19.000000        82.0      F   True\n",
            "7   Hannah        8  505 Walnut St  22.000000        83.0      F   True\n",
            "----------------------------\n",
            "Passed Student:\n",
            "       Name  Roll No        Address        Age  Percentage Gender  Pass\n",
            "0    Alice        1   123 Maple St  20.000000        85.0      F  True\n",
            "1      Bob        2     456 Oak St  21.000000        83.0      M  True\n",
            "2  Charlie        3    789 Pine St  20.714286        78.0      M  True\n",
            "3    David        4        Unknown  22.000000        88.0      M  True\n",
            "4      Eve        5    202 CedarSt  20.000000        95.0      F  True\n",
            "6    Grace        7        Unknown  19.000000        82.0      F  True\n",
            "7   Hannah        8  505 Walnut St  22.000000        83.0      F  True\n",
            "----------------------------\n",
            "\n",
            "Average Percentage by Gender:\n",
            " Gender\n",
            "F    86.25\n",
            "M    79.75\n",
            "Name: Percentage, dtype: float64\n",
            "----------------------------\n",
            "\n",
            "DataFrame by Percentage in descending order:\n",
            "       Name  Roll No        Address        Age  Percentage Gender   Pass\n",
            "4      Eve        5    202 CedarSt  20.000000        95.0      F   True\n",
            "3    David        4        Unknown  22.000000        88.0      M   True\n",
            "0    Alice        1   123 Maple St  20.000000        85.0      F   True\n",
            "1      Bob        2     456 Oak St  21.000000        83.0      M   True\n",
            "7   Hannah        8  505 Walnut St  22.000000        83.0      F   True\n",
            "6    Grace        7        Unknown  19.000000        82.0      F   True\n",
            "2  Charlie        3    789 Pine St  20.714286        78.0      M   True\n",
            "5    Frank        6     303 Elm St  21.000000        70.0      M  False\n",
            "----------------------------\n",
            "\n",
            "dataframe after a new column ‘Age Group’\n",
            "----------------------------\n",
            "\n",
            "Dataframe after droping 'Pass' column:\n",
            "       Name  Roll No        Address        Age  Percentage Gender     Age Group\n",
            "0    Alice        1   123 Maple St  20.000000        85.0      F      Under 21\n",
            "1      Bob        2     456 Oak St  21.000000        83.0      M  21 and above\n",
            "2  Charlie        3    789 Pine St  20.714286        78.0      M      Under 21\n",
            "3    David        4        Unknown  22.000000        88.0      M  21 and above\n",
            "4      Eve        5    202 CedarSt  20.000000        95.0      F      Under 21\n",
            "5    Frank        6     303 Elm St  21.000000        70.0      M  21 and above\n",
            "6    Grace        7        Unknown  19.000000        82.0      F      Under 21\n",
            "7   Hannah        8  505 Walnut St  22.000000        83.0      F  21 and above\n",
            "----------------------------\n"
          ]
        },
        {
          "output_type": "stream",
          "name": "stderr",
          "text": [
            "/tmp/ipython-input-4137992178.py:22: FutureWarning: A value is trying to be set on a copy of a DataFrame or Series through chained assignment using an inplace method.\n",
            "The behavior will change in pandas 3.0. This inplace method will never work because the intermediate object on which we are setting values always behaves as a copy.\n",
            "\n",
            "For example, when doing 'df[col].method(value, inplace=True)', try using 'df.method({col: value}, inplace=True)' or df[col] = df[col].method(value) instead, to perform the operation inplace on the original object.\n",
            "\n",
            "\n",
            "  df['Age'].fillna(df['Age'].mean(), inplace=True)\n",
            "/tmp/ipython-input-4137992178.py:23: FutureWarning: A value is trying to be set on a copy of a DataFrame or Series through chained assignment using an inplace method.\n",
            "The behavior will change in pandas 3.0. This inplace method will never work because the intermediate object on which we are setting values always behaves as a copy.\n",
            "\n",
            "For example, when doing 'df[col].method(value, inplace=True)', try using 'df.method({col: value}, inplace=True)' or df[col] = df[col].method(value) instead, to perform the operation inplace on the original object.\n",
            "\n",
            "\n",
            "  df['Percentage'].fillna(df['Percentage'].mean(), inplace=True)\n",
            "/tmp/ipython-input-4137992178.py:24: FutureWarning: A value is trying to be set on a copy of a DataFrame or Series through chained assignment using an inplace method.\n",
            "The behavior will change in pandas 3.0. This inplace method will never work because the intermediate object on which we are setting values always behaves as a copy.\n",
            "\n",
            "For example, when doing 'df[col].method(value, inplace=True)', try using 'df.method({col: value}, inplace=True)' or df[col] = df[col].method(value) instead, to perform the operation inplace on the original object.\n",
            "\n",
            "\n",
            "  df['Address'].fillna('Unknown', inplace=True)\n"
          ]
        }
      ],
      "source": [
        "data = {\n",
        "    'Name': ['Alice', 'Bob', 'Charlie', 'David', 'Eve', 'Frank', 'Grace','Hannah'],\n",
        "    'Roll No': [1, 2, 3, 4, 5, 6, 7, 8],\n",
        "    'Address': ['123 Maple St', '456 Oak St', '789 Pine St', np.nan, '202 CedarSt', '303 Elm St', np.nan, '505 Walnut St'],\n",
        "    'Age': [20, 21, np.nan, 22, 20, 21, 19, 22],\n",
        "    'Percentage': [85, np.nan, 78, 88, 95, 70, 82, np.nan],\n",
        "    'Gender': ['F', 'M', 'M', 'M', 'F', 'M', 'F', 'F']\n",
        "}\n",
        "df = pd.DataFrame(data)\n",
        "print(\"DataFrame:\\n\", df)\n",
        "print(\"----------------------------\")\n",
        "\n",
        "# 1. Display the first five rows of the DataFrame.\n",
        "print(\"\\nFirst five rows:\\n\", df.head(5))\n",
        "print(\"----------------------------\")\n",
        "\n",
        "# 2. Display the data types of each column.\n",
        "print(df.dtypes)\n",
        "print(\"----------------------------\")\n",
        "\n",
        "# 3. Handle missing values by: Filling numerical values with the mean. Filling missing address values with “Unknown”.\n",
        "df['Age'].fillna(df['Age'].mean(), inplace=True)\n",
        "df['Percentage'].fillna(df['Percentage'].mean(), inplace=True)\n",
        "df['Address'].fillna('Unknown', inplace=True)\n",
        "print(\"\\nHandling Missing values:\\n\",df)\n",
        "print(\"----------------------------\")\n",
        "\n",
        "\n",
        "# 4. Calculate the mean age and mean percentage of the students.\n",
        "print(\"\\nthe mean age is:\", df['Age'].mean())\n",
        "print(\"the mean percentage is:\", df['Percentage'].mean())\n",
        "print(\"----------------------------\")\n",
        "\n",
        "# 5. Add a column Pass which is True if the student’s percentage is 75 or above, otherwise False.\n",
        "df['Pass']= df['Percentage'].apply(lambda x: True if x>=75 else False)\n",
        "print(\"\\nDataFrame with Pass column:\\n\", df)\n",
        "print(\"----------------------------\")\n",
        "\n",
        "\n",
        "# 6. Filter the DataFrame to show only the students who have passed.\n",
        "passed_students = df[df['Percentage'] > 75]\n",
        "print(\"Passed Student:\\n\",passed_students)\n",
        "print(\"----------------------------\")\n",
        "\n",
        "# 7. Group the DataFrame by Gender and calculate the average percentage for each group.\n",
        "avg_per_by_gen = df.groupby('Gender')['Percentage'].mean()\n",
        "print(\"\\nAverage Percentage by Gender:\\n\",avg_per_by_gen)\n",
        "print(\"----------------------------\")\n",
        "\n",
        "\n",
        "# 8. Sort the DataFrame by Percentage in descending order.\n",
        "sorted_df= df.sort_values(by='Percentage', ascending=False)\n",
        "print(\"\\nDataFrame by Percentage in descending order:\\n\",sorted_df)\n",
        "print(\"----------------------------\")\n",
        "\n",
        "\n",
        "# 9. Create a new column ‘Age Group’ with values ‘Under 21’ and ‘21 and above’.\n",
        "df['Age Group']= df['Age'].apply( lambda x: 'Under 21' if x<21 else '21 and above')\n",
        "print(\"\\ndataframe after a new column ‘Age Group’\")\n",
        "print(\"----------------------------\")\n",
        "\n",
        "# 10. Drop the column Pass\n",
        "df= df.drop(columns=['Pass'])\n",
        "print(\"\\nDataframe after droping 'Pass' column:\\n\",df)\n",
        "print(\"----------------------------\")\n"
      ]
    },
    {
      "cell_type": "code",
      "source": [],
      "metadata": {
        "id": "gOM40uUJy0i5"
      },
      "id": "gOM40uUJy0i5",
      "execution_count": null,
      "outputs": []
    }
  ],
  "metadata": {
    "kernelspec": {
      "display_name": "Python 3 (ipykernel)",
      "language": "python",
      "name": "python3"
    },
    "language_info": {
      "codemirror_mode": {
        "name": "ipython",
        "version": 3
      },
      "file_extension": ".py",
      "mimetype": "text/x-python",
      "name": "python",
      "nbconvert_exporter": "python",
      "pygments_lexer": "ipython3",
      "version": "3.11.5"
    },
    "colab": {
      "provenance": []
    }
  },
  "nbformat": 4,
  "nbformat_minor": 5
}